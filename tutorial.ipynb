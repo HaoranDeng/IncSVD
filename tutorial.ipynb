{
 "cells": [
  {
   "cell_type": "code",
   "execution_count": 1,
   "metadata": {},
   "outputs": [],
   "source": [
    "import numpy as np\n",
    "import scipy.sparse\n",
    "import IncSVD.src.IncSVD.EvolvingMatrix as EM\n",
    "N = 1000\n",
    "k = 64"
   ]
  },
  {
   "cell_type": "markdown",
   "metadata": {},
   "source": [
    "### Row updates"
   ]
  },
  {
   "cell_type": "code",
   "execution_count": 2,
   "metadata": {},
   "outputs": [],
   "source": [
    "data_init = scipy.sparse.rand(N, N, density=0.005).tocsr()\n",
    "data_append = scipy.sparse.rand(N, int(N*0.5), density=0.005).tocsc() * 10\n",
    "data_final = scipy.sparse.hstack([data_init, data_append]).tocsr()"
   ]
  },
  {
   "cell_type": "code",
   "execution_count": 3,
   "metadata": {},
   "outputs": [
    {
     "name": "stdout",
     "output_type": "stream",
     "text": [
      "Initial Uk matrix of evolving matrix set to shape of        (1000, 64).\n",
      "Initial sigmak array of evolving matrix set to shape of     (64,).\n",
      "Initial VHk matrix of evolving matrix set to shape of       (64, 1000).\n"
     ]
    }
   ],
   "source": [
    "M = EM.EvolvingMatrix(data_init, k, sparse=True, method=\"RPI\")"
   ]
  },
  {
   "cell_type": "code",
   "execution_count": 4,
   "metadata": {},
   "outputs": [
    {
     "name": "stdout",
     "output_type": "stream",
     "text": [
      "<class 'scipy.sparse._csc.csc_matrix'>\n"
     ]
    }
   ],
   "source": [
    "M.add_column(data_append, l=200, t=10)"
   ]
  },
  {
   "cell_type": "code",
   "execution_count": 5,
   "metadata": {},
   "outputs": [],
   "source": [
    "U0, S0, V0 = scipy.sparse.linalg.svds(data_init, k)\n",
    "A0 = U0 @ np.diag(S0) @ V0\n",
    "A0 = np.hstack([A0, np.zeros_like(data_append.toarray())])\n",
    "res3 = np.linalg.norm((np.zeros_like(A0)-data_final))"
   ]
  },
  {
   "cell_type": "code",
   "execution_count": 6,
   "metadata": {},
   "outputs": [
    {
     "name": "stdout",
     "output_type": "stream",
     "text": [
      "234.87410247066396 235.12391268096187 294.1743719265202\n"
     ]
    }
   ],
   "source": [
    "Uk_true, Sigmak_true, Vk_true = scipy.sparse.linalg.svds(data_final, k) \n",
    "A1 = Uk_true @ np.diag(Sigmak_true) @ Vk_true\n",
    "A2 = M.Uk @ np.diag(M.Sigmak) @ M.Vk.T\n",
    "res1 = np.linalg.norm((A1-data_final))\n",
    "res2 = np.linalg.norm((A2-data_final))\n",
    "print(res1, res2, res3)"
   ]
  },
  {
   "cell_type": "markdown",
   "metadata": {},
   "source": [
    "### Update weight"
   ]
  },
  {
   "cell_type": "code",
   "execution_count": 7,
   "metadata": {},
   "outputs": [],
   "source": [
    "data_init = scipy.sparse.rand(N, N, density=0.005).tocsr()\n",
    "data_plus1 = scipy.sparse.rand(N, 15, density=0.005).tocsc() * 10\n",
    "data_plus2 = scipy.sparse.rand(N, 15, density=0.005).tocsc() * 10\n",
    "data_final = data_init + data_plus1 @ data_plus2.T"
   ]
  },
  {
   "cell_type": "code",
   "execution_count": 8,
   "metadata": {},
   "outputs": [
    {
     "name": "stdout",
     "output_type": "stream",
     "text": [
      "Initial Uk matrix of evolving matrix set to shape of        (1000, 64).\n",
      "Initial sigmak array of evolving matrix set to shape of     (64,).\n",
      "Initial VHk matrix of evolving matrix set to shape of       (64, 1000).\n"
     ]
    }
   ],
   "source": [
    "M = EM.EvolvingMatrix(data_init, k, sparse=True, method=\"RPI\")"
   ]
  },
  {
   "cell_type": "code",
   "execution_count": 9,
   "metadata": {},
   "outputs": [
    {
     "name": "stdout",
     "output_type": "stream",
     "text": [
      "<class 'scipy.sparse._csc.csc_matrix'>\n",
      "<class 'scipy.sparse._csc.csc_matrix'>\n"
     ]
    }
   ],
   "source": [
    "M.update_weight(data_plus1, data_plus2, l=15, t=100)"
   ]
  },
  {
   "cell_type": "code",
   "execution_count": 10,
   "metadata": {},
   "outputs": [
    {
     "name": "stdout",
     "output_type": "stream",
     "text": [
      "35.50834107083238 36.07074336988177\n"
     ]
    }
   ],
   "source": [
    "Uk_true, Sigmak_true, Vk_true = scipy.sparse.linalg.svds(data_final, k) \n",
    "A1 = Uk_true @ np.diag(Sigmak_true) @ Vk_true\n",
    "A2 = M.Uk @ np.diag(M.Sigmak) @ M.Vk.T\n",
    "res1 = np.linalg.norm((A1-data_final))\n",
    "res2 = np.linalg.norm((A2-data_final))\n",
    "print(res1, res2)"
   ]
  },
  {
   "cell_type": "code",
   "execution_count": null,
   "metadata": {},
   "outputs": [],
   "source": []
  }
 ],
 "metadata": {
  "kernelspec": {
   "display_name": "Python 3 (ipykernel)",
   "language": "python",
   "name": "python3"
  },
  "language_info": {
   "codemirror_mode": {
    "name": "ipython",
    "version": 3
   },
   "file_extension": ".py",
   "mimetype": "text/x-python",
   "name": "python",
   "nbconvert_exporter": "python",
   "pygments_lexer": "ipython3",
   "version": "3.11.5"
  }
 },
 "nbformat": 4,
 "nbformat_minor": 2
}
